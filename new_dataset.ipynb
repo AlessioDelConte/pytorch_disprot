{
 "cells": [
  {
   "cell_type": "code",
   "execution_count": 229,
   "outputs": [],
   "source": [
    "from pathlib import Path\n",
    "\n",
    "import matplotlib.pyplot as plt\n",
    "import numpy as np\n",
    "import pandas as pd\n",
    "import seaborn as sns\n",
    "from Bio import SeqIO\n",
    "from tqdm.notebook import tqdm"
   ],
   "metadata": {
    "collapsed": false,
    "pycharm": {
     "name": "#%%\n"
    }
   }
  },
  {
   "cell_type": "code",
   "execution_count": 230,
   "outputs": [],
   "source": [
    "af_dir = Path(\"/mnt/db/af_disorder\")"
   ],
   "metadata": {
    "collapsed": false,
    "pycharm": {
     "name": "#%%\n"
    }
   }
  },
  {
   "cell_type": "code",
   "execution_count": 231,
   "outputs": [],
   "source": [
    "disorder_disprot = dict()\n",
    "with open(\"data/references/disorder_ref.fasta\", \"r\") as f:\n",
    "    for line in f:\n",
    "        if line.startswith(\">\"):\n",
    "            name = line[1:].strip()\n",
    "            f.readline()\n",
    "            disorder_disprot[name] = f.readline().strip()"
   ],
   "metadata": {
    "collapsed": false,
    "pycharm": {
     "name": "#%%\n"
    }
   }
  },
  {
   "cell_type": "code",
   "execution_count": 241,
   "outputs": [
    {
     "name": "stdout",
     "output_type": "stream",
     "text": [
      "/mnt/db/af_disorder/UP000008816_93061_STAA8_v3_data.tsv\n",
      "/mnt/db/af_disorder/UP000001014_99287_SALTY_v3_data.tsv\n",
      "/mnt/db/af_disorder/swissprot_cif_v3_data.tsv\n",
      "/mnt/db/af_disorder/UP000270924_6293_WUCBA_v3_data.tsv\n",
      "/mnt/db/af_disorder/UP000000429_85962_HELPY_v3_data.tsv\n",
      "/mnt/db/af_disorder/UP000030665_36087_TRITR_v3_data.tsv\n",
      "/mnt/db/af_disorder/UP000000586_171101_STRR6_v3_data.tsv\n",
      "/mnt/db/af_disorder/UP000000589_10090_MOUSE_v3_data.tsv\n",
      "/mnt/db/af_disorder/UP000000437_7955_DANRE_v3_data.tsv\n",
      "/mnt/db/af_disorder/UP000006548_3702_ARATH_v3_data.tsv\n",
      "/mnt/db/af_disorder/UP000053029_1442368_9EURO2_v3_data.tsv\n",
      "/mnt/db/af_disorder/UP000000803_7227_DROME_v3_data.tsv\n",
      "/mnt/db/af_disorder/UP000006304_1133849_9NOCA1_v3_data.tsv\n",
      "/mnt/db/af_disorder/UP000274756_318479_DRAME_v3_data.tsv\n",
      "/mnt/db/af_disorder/UP000035681_6248_STRER_v3_data.tsv\n",
      "/mnt/db/af_disorder/UP000000799_192222_CAMJE_v3_data.tsv\n",
      "/mnt/db/af_disorder/UP000007841_1125630_KLEPH_v3_data.tsv\n",
      "/mnt/db/af_disorder/UP000325664_1352_ENTFC_v3_data.tsv\n",
      "/mnt/db/af_disorder/UP000094526_86049_9EURO1_v3_data.tsv\n",
      "/mnt/db/af_disorder/UP000018087_1391915_SPOS1_v3_data.tsv\n",
      "/mnt/db/af_disorder/UP000006672_6279_BRUMA_v3_data.tsv\n",
      "/mnt/db/af_disorder/UP000002059_502779_PARBA_v3_data.tsv\n",
      "/mnt/db/af_disorder/UP000000559_237561_CANAL_v3_data.tsv\n",
      "/mnt/db/af_disorder/UP000000625_83333_ECOLI_v3_data.tsv\n",
      "/mnt/db/af_disorder/UP000002311_559292_YEAST_v3_data.tsv\n",
      "/mnt/db/af_disorder/UP000002716_300267_SHIDS_v3_data.tsv\n",
      "/mnt/db/af_disorder/UP000020681_1299332_MYCUL_v3_data.tsv\n",
      "/mnt/db/af_disorder/UP000002195_44689_DICDI_v3_data.tsv\n",
      "/mnt/db/af_disorder/UP000008524_185431_TRYB2_v3_data.tsv\n",
      "/mnt/db/af_disorder/UP000002485_284812_SCHPO_v3_data.tsv\n",
      "/mnt/db/af_disorder/UP000005640_9606_HUMAN_v3_data.tsv\n",
      "/mnt/db/af_disorder/UP000001940_6239_CAEEL_v3_data.tsv\n",
      "/mnt/db/af_disorder/UP000000805_243232_METJA_v3_data.tsv\n",
      "/mnt/db/af_disorder/UP000000535_242231_NEIG1_v3_data.tsv\n",
      "/mnt/db/af_disorder/UP000007305_4577_MAIZE_v3_data.tsv\n",
      "/mnt/db/af_disorder/UP000008854_6183_SCHMA_v3_data.tsv\n",
      "/mnt/db/af_disorder/UP000002296_353153_TRYCC_v3_data.tsv\n",
      "/mnt/db/af_disorder/UP000002438_208964_PSEAE_v3_data.tsv\n",
      "/mnt/db/af_disorder/UP000024404_6282_ONCVO_v3_data.tsv\n",
      "/mnt/db/af_disorder/UP000000579_71421_HAEIN_v3_data.tsv\n",
      "/mnt/db/af_disorder/mane_overlap_v3_data.tsv\n",
      "/mnt/db/af_disorder/UP000000806_272631_MYCLE_v3_data.tsv\n",
      "/mnt/db/af_disorder/UP000008153_5671_LEIIN_v3_data.tsv\n",
      "/mnt/db/af_disorder/UP000008827_3847_SOYBN_v3_data.tsv\n",
      "/mnt/db/af_disorder/UP000078237_100816_9PEZI1_v3_data.tsv\n",
      "/mnt/db/af_disorder/UP000001584_83332_MYCTU_v3_data.tsv\n",
      "/mnt/db/af_disorder/UP000001631_447093_AJECG_v3_data.tsv\n",
      "/mnt/db/af_disorder/UP000001450_36329_PLAF7_v3_data.tsv\n",
      "/mnt/db/af_disorder/UP000059680_39947_ORYSJ_v3_data.tsv\n",
      "/mnt/db/af_disorder/UP000002494_10116_RAT_v3_data.tsv\n"
     ]
    }
   ],
   "source": [
    "af = {\n",
    "        \"name\": [],\n",
    "        \"pos\" : [],\n",
    "        \"aa\"  : [],\n",
    "        \"lddt\": [],\n",
    "}\n",
    "\n",
    "already_in = set()\n",
    "\n",
    "for file in af_dir.glob(\"*data.tsv\"):\n",
    "    print(file)\n",
    "    with open(file, \"r\") as f:\n",
    "        # Skip header\n",
    "        f.readline()\n",
    "        for line in f:\n",
    "            name, pos, aa, lddt, *_ = line.split('\\t')\n",
    "            name = name.split('-')[1]\n",
    "            if name in disorder_disprot.keys() and (name, pos) not in already_in:\n",
    "                af[\"name\"].append(name)\n",
    "                af[\"pos\"].append(int(pos))\n",
    "                af[\"aa\"].append(aa)\n",
    "                af[\"lddt\"].append(float(lddt))\n",
    "                already_in.add((name, pos))"
   ],
   "metadata": {
    "collapsed": false,
    "pycharm": {
     "name": "#%%\n"
    }
   }
  },
  {
   "cell_type": "code",
   "execution_count": 242,
   "outputs": [],
   "source": [
    "af = pd.DataFrame(af)"
   ],
   "metadata": {
    "collapsed": false,
    "pycharm": {
     "name": "#%%\n"
    }
   }
  },
  {
   "cell_type": "code",
   "execution_count": 243,
   "outputs": [],
   "source": [
    "af.to_csv(\"data/af_disorder.csv\", index=False, mode=\"w\")"
   ],
   "metadata": {
    "collapsed": false,
    "pycharm": {
     "name": "#%%\n"
    }
   }
  },
  {
   "cell_type": "code",
   "execution_count": 244,
   "outputs": [],
   "source": [
    "af = pd.read_csv(\"data/af_disorder.csv\")"
   ],
   "metadata": {
    "collapsed": false,
    "pycharm": {
     "name": "#%%\n"
    }
   }
  },
  {
   "cell_type": "code",
   "execution_count": 245,
   "outputs": [
    {
     "name": "stdout",
     "output_type": "stream",
     "text": [
      "In AF there are 391 protein missing from the disorder dataset\n"
     ]
    }
   ],
   "source": [
    "print(f\"In AF there are {len(disorder_disprot) - len(af.name.unique())} protein missing from the disorder dataset\")"
   ],
   "metadata": {
    "collapsed": false,
    "pycharm": {
     "name": "#%%\n"
    }
   }
  },
  {
   "cell_type": "code",
   "execution_count": 246,
   "outputs": [
    {
     "data": {
      "text/plain": "0.6497000032285714"
     },
     "execution_count": 246,
     "metadata": {},
     "output_type": "execute_result"
    }
   ],
   "source": [
    "(af.lddt > 0.7).sum() / len(af)"
   ],
   "metadata": {
    "collapsed": false,
    "pycharm": {
     "name": "#%%\n"
    }
   }
  },
  {
   "cell_type": "code",
   "execution_count": 247,
   "outputs": [
    {
     "data": {
      "text/plain": "Text(0, 0.5, 'Number of proteins')"
     },
     "execution_count": 247,
     "metadata": {},
     "output_type": "execute_result"
    },
    {
     "data": {
      "text/plain": "<Figure size 432x288 with 1 Axes>",
      "image/png": "[encoded data removed]"
     },
     "metadata": {
      "needs_background": "light"
     },
     "output_type": "display_data"
    }
   ],
   "source": [
    "ax = af.groupby([\"name\"]).mean().lddt.hist(bins=50)\n",
    "ax.set_xlabel(\"Average AF disorder score\")\n",
    "ax.set_ylabel(\"Number of proteins\")"
   ],
   "metadata": {
    "collapsed": false,
    "pycharm": {
     "name": "#%%\n"
    }
   }
  },
  {
   "cell_type": "code",
   "execution_count": 248,
   "outputs": [
    {
     "data": {
      "text/plain": "  0%|          | 0/1876 [00:00<?, ?it/s]",
      "application/vnd.jupyter.widget-view+json": {
       "version_major": 2,
       "version_minor": 0,
       "model_id": "bc4de7b2883e472d92f1da659497482a"
      }
     },
     "metadata": {},
     "output_type": "display_data"
    }
   ],
   "source": [
    "with open(\"data/references/disorder_af_ref.fasta\", \"w\") as f:\n",
    "    for name in tqdm(af.name.unique()):\n",
    "        f.write(f\">{name}\\n\")\n",
    "        order = (af[af.name == name].lddt > 0.7).astype(int)\n",
    "        f.write(f\"{''.join(order.astype(str))}\\n\")"
   ],
   "metadata": {
    "collapsed": false,
    "pycharm": {
     "name": "#%%\n"
    }
   }
  },
  {
   "cell_type": "code",
   "execution_count": 173,
   "outputs": [
    {
     "data": {
      "text/plain": "       uniprot  start  end\n19      P17931    113  250\n65      Q9W1M7    291  422\n66      Q9W1M7    531  561\n67      Q9W1M7    566  948\n68      Q9W1M7    292  421\n...        ...    ...  ...\n972217  P47047      4   17\n972220  P38801      1  101\n972221  P47047      5   12\n972224  P38801      2   94\n972225  P47047      5   12\n\n[105533 rows x 3 columns]",
      "text/html": "<div>\n<style scoped>\n    .dataframe tbody tr th:only-of-type {\n        vertical-align: middle;\n    }\n\n    .dataframe tbody tr th {\n        vertical-align: top;\n    }\n\n    .dataframe thead th {\n        text-align: right;\n    }\n</style>\n<table border=\"1\" class=\"dataframe\">\n  <thead>\n    <tr style=\"text-align: right;\">\n      <th></th>\n      <th>uniprot</th>\n      <th>start</th>\n      <th>end</th>\n    </tr>\n  </thead>\n  <tbody>\n    <tr>\n      <th>19</th>\n      <td>P17931</td>\n      <td>113</td>\n      <td>250</td>\n    </tr>\n    <tr>\n      <th>65</th>\n      <td>Q9W1M7</td>\n      <td>291</td>\n      <td>422</td>\n    </tr>\n    <tr>\n      <th>66</th>\n      <td>Q9W1M7</td>\n      <td>531</td>\n      <td>561</td>\n    </tr>\n    <tr>\n      <th>67</th>\n      <td>Q9W1M7</td>\n      <td>566</td>\n      <td>948</td>\n    </tr>\n    <tr>\n      <th>68</th>\n      <td>Q9W1M7</td>\n      <td>292</td>\n      <td>421</td>\n    </tr>\n    <tr>\n      <th>...</th>\n      <td>...</td>\n      <td>...</td>\n      <td>...</td>\n    </tr>\n    <tr>\n      <th>972217</th>\n      <td>P47047</td>\n      <td>4</td>\n      <td>17</td>\n    </tr>\n    <tr>\n      <th>972220</th>\n      <td>P38801</td>\n      <td>1</td>\n      <td>101</td>\n    </tr>\n    <tr>\n      <th>972221</th>\n      <td>P47047</td>\n      <td>5</td>\n      <td>12</td>\n    </tr>\n    <tr>\n      <th>972224</th>\n      <td>P38801</td>\n      <td>2</td>\n      <td>94</td>\n    </tr>\n    <tr>\n      <th>972225</th>\n      <td>P47047</td>\n      <td>5</td>\n      <td>12</td>\n    </tr>\n  </tbody>\n</table>\n<p>105533 rows × 3 columns</p>\n</div>"
     },
     "execution_count": 173,
     "metadata": {},
     "output_type": "execute_result"
    }
   ],
   "source": [
    "sifts_file = Path(\"data/uniprot_segments_observed.tsv\")\n",
    "df_sifts = pd.read_csv(sifts_file, sep=\"\\t\", header=1, usecols=[\"SP_PRIMARY\", \"SP_BEG\", \"SP_END\"])\n",
    "df_sifts.columns = [\"uniprot\", \"start\", \"end\"]\n",
    "# Filter for dataset entries\n",
    "df_sifts = df_sifts.loc[df_sifts['uniprot'].isin(disorder_disprot.keys())]"
   ],
   "metadata": {
    "collapsed": false,
    "pycharm": {
     "name": "#%%\n"
    }
   }
  },
  {
   "cell_type": "code",
   "execution_count": 218,
   "outputs": [],
   "source": [
    "ids_in_sifts = set(df_sifts.uniprot.unique())\n",
    "with open(f\"data/references/disorder_pdb_ref.fasta\", \"w\") as f:\n",
    "    for record_id, sequence in disorder_disprot.items():\n",
    "        if record_id in ids_in_sifts:\n",
    "            s, e = df_sifts.loc[df_sifts.uniprot == record_id, [\"start\", \"end\"]].values[0]\n",
    "            order = \"\"\n",
    "            for idx in range(len(sequence)):\n",
    "                idx = idx + 1\n",
    "                if s <= idx <= e:\n",
    "                    order += \"1\"\n",
    "                else:\n",
    "                    order += \"0\"\n",
    "            f.write(f\">{record_id}\\n\")\n",
    "            f.write(f\"{order}\\n\")"
   ],
   "metadata": {
    "collapsed": false,
    "pycharm": {
     "name": "#%%\n"
    }
   }
  },
  {
   "cell_type": "code",
   "execution_count": 249,
   "outputs": [],
   "source": [
    "disorder_pdb = dict()\n",
    "disorder_af = dict()\n",
    "\n",
    "for record in SeqIO.parse(\"data/references/disorder_pdb_ref.fasta\", 'fasta'):\n",
    "    disorder_pdb[record.id] = record\n",
    "\n",
    "for record in SeqIO.parse(\"data/references/disorder_af_ref.fasta\", 'fasta'):\n",
    "    disorder_af[record.id] = record"
   ],
   "metadata": {
    "collapsed": false,
    "pycharm": {
     "name": "#%%\n"
    }
   }
  },
  {
   "cell_type": "code",
   "execution_count": 266,
   "outputs": [],
   "source": [
    "x = np.array([int(x) for x in disorder_af[\"P49765\"].seq])\n",
    "y = np.array([int(x) for x in disorder_pdb[\"P49765\"].seq])\n",
    "z = np.array([int(x) for x in disorder_disprot[\"P49765\"]])"
   ],
   "metadata": {
    "collapsed": false,
    "pycharm": {
     "name": "#%%\n"
    }
   }
  },
  {
   "cell_type": "code",
   "execution_count": 267,
   "outputs": [
    {
     "data": {
      "text/plain": "<AxesSubplot:>"
     },
     "execution_count": 267,
     "metadata": {},
     "output_type": "execute_result"
    },
    {
     "data": {
      "text/plain": "<Figure size 1440x216 with 1 Axes>",
      "image/png": "[encoded data removed]"
     },
     "metadata": {
      "needs_background": "light"
     },
     "output_type": "display_data"
    }
   ],
   "source": [
    "plt.subplots(figsize=(20, 3))\n",
    "sns.heatmap(np.stack([x, y, z], axis=0), cmap=\"Greys\", cbar=False, yticklabels=[\"AF\", \"PDB\", \"DisProt\"])"
   ],
   "metadata": {
    "collapsed": false,
    "pycharm": {
     "name": "#%%\n"
    }
   }
  },
  {
   "cell_type": "code",
   "execution_count": 222,
   "outputs": [
    {
     "data": {
      "text/plain": "316"
     },
     "execution_count": 222,
     "metadata": {},
     "output_type": "execute_result"
    }
   ],
   "source": [
    "disorder_disprot[\"O33599\"].__len__()\n"
   ],
   "metadata": {
    "collapsed": false,
    "pycharm": {
     "name": "#%%\n"
    }
   }
  },
  {
   "cell_type": "code",
   "execution_count": 228,
   "outputs": [
    {
     "data": {
      "text/plain": "632"
     },
     "execution_count": 228,
     "metadata": {},
     "output_type": "execute_result"
    }
   ],
   "source": [
    "disorder_af[\"O33599\"].seq.__len__()"
   ],
   "metadata": {
    "collapsed": false,
    "pycharm": {
     "name": "#%%\n"
    }
   }
  },
  {
   "cell_type": "code",
   "execution_count": null,
   "outputs": [],
   "source": [],
   "metadata": {
    "collapsed": false,
    "pycharm": {
     "name": "#%%\n"
    }
   }
  }
 ],
 "metadata": {
  "kernelspec": {
   "display_name": "Python 3",
   "language": "python",
   "name": "python3"
  },
  "language_info": {
   "codemirror_mode": {
    "name": "ipython",
    "version": 2
   },
   "file_extension": ".py",
   "mimetype": "text/x-python",
   "name": "python",
   "nbconvert_exporter": "python",
   "pygments_lexer": "ipython2",
   "version": "2.7.6"
  }
 },
 "nbformat": 4,
 "nbformat_minor": 0
}